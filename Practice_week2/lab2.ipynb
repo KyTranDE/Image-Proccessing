{
 "cells": [
  {
   "cell_type": "markdown",
   "metadata": {},
   "source": [
    "# LAB-02: Giới thiệu về Python, OpenCV & Numpy"
   ]
  },
  {
   "cell_type": "markdown",
   "metadata": {},
   "source": [
    "### Mục tiêu: Mục tiêu của bài thực hành này là giới thiệu cho sinh viên về OpenCV, đặc biệt là liên quan đến xử lý ảnh."
   ]
  },
  {
   "cell_type": "markdown",
   "metadata": {},
   "source": [
    "Một số lệnh hữu ích:\n",
    "\n",
    "1. Để tạo một mảng 2D gồm các số không sử dụng NumPy:\n",
    "\n",
    "    - `my_array = numpy.zeros((số_dòng, số_cột))`\n",
    "2. Để tạo một mảng 2D gồm các số một sử dụng NumPy:\n",
    "\n",
    "    - `my_array = numpy.ones((số_dòng, số_cột))`\n",
    "3. Để kiểm tra kích thước của mảng 2D:\n",
    "\n",
    "    - `size = numpy.shape(my_array)`\n",
    "4. Đọc một hình ảnh bằng OpenCV:\n",
    "\n",
    "    - `my_image = cv2.imread(\"test_image.jpg\", 0)`\n",
    "    - Tham số thứ hai quyết định liệu hình ảnh được đọc dưới dạng ảnh xám hay ảnh màu. 0 được sử dụng để đọc hình ảnh dưới dạng ảnh xám, trong khi 1 được sử dụng để đọc hình ảnh màu. Nếu không truyền tham số nào thì hình ảnh được đọc như mặc định.\n",
    "\n",
    "5. Hiển thị một hình ảnh bằng OpenCV:\n",
    "\n",
    "    - `cv2.imshow(\"Tiêu đề cửa sổ\", my_image)`\n",
    "6. Hai lệnh nữa cần được sử dụng khi hiển thị hình ảnh là:\n",
    "\n",
    "    - `cv2.waitKey(x)`\n",
    "    - `cv2.destroyAllWindows()`\n",
    "    - Hàm waitKey() chờ một phím được nhấn trong x mili giây. Nếu truyền 0 vào waitKey() như một tham số, nó sẽ chờ vô thời hạn cho đến khi một phím được nhấn. cv2.destroyAllWindows() đóng tất cả các cửa sổ hình ảnh đang mở.\n",
    "\n",
    "7. Ghi một hình ảnh ra đĩa:\n",
    "\n",
    "    - `cv2.imwrite(\"image_name.jpg\", my_image)`\n",
    "8. Thay đổi kích thước một hình ảnh:\n",
    "\n",
    "    - `cv2.resize(my_image, (chiều_cao_mới, chiều_rộng_mới))`\n",
    "\n",
    "\n",
    "\n",
    "\n",
    "\n"
   ]
  },
  {
   "cell_type": "markdown",
   "metadata": {},
   "source": [
    "### Bài tập 1:\n",
    "\n",
    "    - Đọc bất kỳ hình ảnh nào mà bạn muốn bằng lệnh phù hợp và hiển thị nó.\n",
    "\n"
   ]
  },
  {
   "cell_type": "markdown",
   "metadata": {},
   "source": [
    "### Bài tập 2:\n",
    "\n",
    "    - a) Bây giờ hãy phản chiếu hình ảnh mà bạn đã đọc tại trung tâm, tức là nửa dưới của hình ảnh sẽ là bản sao của nửa trên. (GỢI Ý: Bạn có thể sử dụng các vòng lặp lồng nhau). Ghi hình ảnh vào đĩa bằng lệnh phù hợp.\n",
    "\n",
    "    - b) Bây giờ hoàn toàn lật ngược hình ảnh để nó bị đảo ngược từ trên xuống dưới như hình dưới đây:\n",
    "\n"
   ]
  },
  {
   "cell_type": "markdown",
   "metadata": {},
   "source": [
    "### Bài tập 3:\n",
    "\n",
    "    - Tạo một ma trận kích thước r×c gồm các số một và thêm viền gồm các số không rộng 10 pixel xung quanh mỗi cạnh của nó, sao cho kích thước của nó sẽ trở thành (4+500+4)×(4+500+4)=508×508 như hình dưới đây:\n",
    "\n",
    "    - Tạo một hàm tổng quát sao cho các giá trị (500 và 4) có thể được người dùng truyền vào.\n",
    "\n"
   ]
  },
  {
   "cell_type": "markdown",
   "metadata": {},
   "source": [
    "### Bài tập 4:\n",
    "\n",
    "    - Viết 3 hàm Python khác nhau có thể tạo ra các hình ảnh được cho dưới đây. Lập trình chúng sao cho kích thước của hình ảnh và các hộp và đường kẻ có thể được thay đổi.\n",
    "\n"
   ]
  },
  {
   "cell_type": "markdown",
   "metadata": {},
   "source": [
    "### Bài tập 5:\n",
    "\n",
    "    - Đọc một hình ảnh và thay đổi kích thước của nó thành 512×512 bằng hàm thích hợp. Sau đó giảm mẫu hình ảnh xuống 4 lần sao cho kích thước cuối cùng của hình ảnh là 128×128. Hiển thị và lưu hình ảnh vào đĩa.\n",
    "\n"
   ]
  },
  {
   "cell_type": "markdown",
   "metadata": {},
   "source": [
    "### Bài tập 6:\n",
    "\n",
    "    - Viết một hàm để tạo một hình ảnh màu trắng kích thước 500×500 (hoặc bất kỳ kích thước nào khác do người dùng nhập vào) và sau đó tạo 4 hộp màu Đỏ, Xanh Lá, Xanh Dương và Đen tương ứng ở mỗi góc của hình ảnh như hình dưới đây.\n",
    "\n",
    "    - Kích thước của các hộp màu nên bằng 1/8 kích thước của hình ảnh. (GỢI Ý: các mảng gồm các số một và số không có thể có hơn 2 chiều)."
   ]
  },
  {
   "cell_type": "code",
   "execution_count": null,
   "metadata": {},
   "outputs": [],
   "source": []
  }
 ],
 "metadata": {
  "kernelspec": {
   "display_name": "Python 3",
   "language": "python",
   "name": "python3"
  },
  "language_info": {
   "name": "python",
   "version": "3.9.13"
  }
 },
 "nbformat": 4,
 "nbformat_minor": 2
}
