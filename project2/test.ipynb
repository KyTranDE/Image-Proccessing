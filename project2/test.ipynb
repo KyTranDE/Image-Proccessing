{
 "cells": [
  {
   "cell_type": "code",
   "execution_count": null,
   "metadata": {
    "vscode": {
     "languageId": "plaintext"
    }
   },
   "outputs": [],
   "source": [
    "def Dice_Recognition(path_img):\n",
    "    # Load image in both RGB and grayscale formats\n",
    "    img = cv2.imread(path_img)\n",
    "    if img is None:\n",
    "        print(\"Image not found or unable to load.\")\n",
    "        return\n",
    "    rgb_img = cv2.cvtColor(img, cv2.COLOR_BGR2RGB)\n",
    "    gray_img = cv2.cvtColor(img, cv2.IMREAD_GRAYSCALE)\n",
    "    _, img_threshold = cv2.threshold(gray_img, 245, 255, cv2.THRESH_BINARY)\n",
    "    plt.imshow(img_threshold, cmap='gray')\n",
    "    plt.axis('off')\n",
    "    plt.show()\n",
    "    \n",
    "\n",
    "    # Apply Canny edge detection\n",
    "    detected_edges = cv2.Canny(img_threshold, 5, 150, 3)\n",
    "    plt.imshow(detected_edges, cmap='gray')\n",
    "    plt.axis('off')\n",
    "    plt.show()\n",
    "    kernel = cv2.getStructuringElement(cv2.MORPH_RECT, (9,9))\n",
    "    close = cv2.morphologyEx(detected_edges, cv2.MORPH_CLOSE, kernel, iterations=1)\n",
    "    plt.imshow(close, cmap='gray')\n",
    "    plt.axis('off')\n",
    "    plt.show()\n",
    "    # Detect circles using Hough Circle Transform\n",
    "    circles = cv2.HoughCircles(close,cv2.HOUGH_GRADIENT,1.3,20,param1=50,param2=25,minRadius=3,maxRadius=35)\n",
    "    if circles is not None:\n",
    "        circles = circles[0, :]\n",
    "        \n",
    "        # Draw detected circles and their centers on the dice\n",
    "        for i in circles:\n",
    "            cv2.circle(rgb_img, (int(i[0]), int(i[1])), int(i[2]), (0, 255, 0), 2)  # Outer circle\n",
    "            cv2.circle(rgb_img, (int(i[0]), int(i[1])), 2, (0, 0, 255), 3)         # Center of the circle\n",
    "        \n",
    "        # Output number of circles (dots) detected\n",
    "        num_circles = len(circles)\n",
    "        print(f\"Number of dots detected: {num_circles}\")\n",
    "    \n",
    "    # Detect contours and draw bounding boxes around dice\n",
    "    contours, _ = cv2.findContours(close, cv2.RETR_EXTERNAL, cv2.CHAIN_APPROX_SIMPLE)\n",
    "    for contour in contours:\n",
    "        x0, y0, w0, h0 = cv2.boundingRect(contour)\n",
    "        cv2.rectangle(rgb_img, (x0, y0), (x0 + w0, y0 + h0), (0, 255, 0), 5)\n",
    "        \n",
    "    # Display the processed image with annotations\n",
    "    plt.imshow(rgb_img)\n",
    "    plt.axis('off')\n",
    "    plt.show()\n",
    "\n",
    "# Test the improved function on one of the images\n",
    "Dice_Recognition('img/1.jpg')\n"
   ]
  },
  {
   "cell_type": "code",
   "execution_count": null,
   "metadata": {
    "vscode": {
     "languageId": "plaintext"
    }
   },
   "outputs": [],
   "source": [
    "# Reimporting required libraries to ensure everything works properly\n",
    "import cv2\n",
    "from matplotlib import pyplot as plt\n",
    "\n",
    "# Load and process the newly uploaded image with OpenCV\n",
    "path_img = 'img/1.jpg'\n",
    "\n",
    "# Load image\n",
    "img = cv2.imread(path_img, cv2.IMREAD_GRAYSCALE)\n",
    "\n",
    "\n",
    "# chọn ngưỡng\n",
    "_, img = cv2.threshold(img, 245, 255, cv2.THRESH_BINARY)\n",
    "\n",
    "# phát hiện biên cạnh\n",
    "edges = cv2.Canny(img, 5, 150, 3)\n",
    "\n",
    "# Hiển thị ảnh gốc và ảnh biên cạnh\n",
    "plt.figure(figsize=(10, 5))\n",
    "\n",
    "plt.imshow(img, cmap='gray')\n",
    "plt.axis('off')\n",
    "plt.show()\n",
    "\n",
    "plt.figure(figsize=(10, 5))\n",
    "plt.imshow(edges, cmap='gray')\n",
    "plt.axis('off')\n",
    "plt.show()\n",
    "\n"
   ]
  }
 ],
 "metadata": {
  "language_info": {
   "name": "python"
  }
 },
 "nbformat": 4,
 "nbformat_minor": 2
}
