{
 "cells": [
  {
   "cell_type": "markdown",
   "metadata": {},
   "source": [
    "### Tại sao lại chọn OpenCV?\n",
    "- OpenCV là một bộ sưu tập toàn diện gồm hơn 2500 thuật toán học máy và thị giác máy tính có thể được sử dụng từ việc đơn giản như phát hiện khuôn mặt trong ảnh đến dự án thực tế tăng cường được phủ lên khung cảnh. Một lĩnh vực khác mà OpenCV vượt trội là hỗ trợ tuyệt vời cho nhiều giao diện và tất cả các hệ điều hành chính so với các giải pháp khác. OpenCV hỗ trợ Windows, Linux, OS X và Android và cung cấp các giao diện cho C, C++, Python, Java và MATLAB.\n",
    "\n",
    "- Một số ứng dụng có thể thực hiện dễ dàng với OpenCV là: nhận diện đối tượng, theo dõi chuyển động của camera, ghép hình ảnh lại với nhau, tìm hình ảnh tương tự trong cơ sở dữ liệu bằng một hình ảnh, phát hiện khuôn mặt và theo dõi đối tượng chuyển động trong video, v.v."
   ]
  },
  {
   "cell_type": "code",
   "execution_count": 1,
   "metadata": {},
   "outputs": [],
   "source": [
    "import numpy as np"
   ]
  },
  {
   "cell_type": "markdown",
   "metadata": {},
   "source": [
    "1. Để cắt một mảng 2D:"
   ]
  },
  {
   "cell_type": "code",
   "execution_count": null,
   "metadata": {},
   "outputs": [],
   "source": [
    "x = y [row_start: row_end, col_start: col_end]\n"
   ]
  },
  {
   "cell_type": "markdown",
   "metadata": {},
   "source": [
    "2. Để tạo một mảng 2D toàn số không bằng NumPy:\n"
   ]
  },
  {
   "cell_type": "code",
   "execution_count": null,
   "metadata": {},
   "outputs": [],
   "source": [
    "my_array = numpy.zeros ((row, columns), dtype=numpy.uint8)\n"
   ]
  },
  {
   "cell_type": "markdown",
   "metadata": {},
   "source": [
    "3. Để tạo một mảng 2D toàn số một bằng NumPy:"
   ]
  },
  {
   "cell_type": "code",
   "execution_count": null,
   "metadata": {},
   "outputs": [],
   "source": [
    "my_array = numpy.ones ((row, columns), dtype=numpy.uint8)\n"
   ]
  },
  {
   "cell_type": "markdown",
   "metadata": {},
   "source": [
    "4. Để kiểm tra kích thước của một mảng 2D:"
   ]
  },
  {
   "cell_type": "code",
   "execution_count": null,
   "metadata": {},
   "outputs": [],
   "source": [
    "size = numpy.shape(my_array)\n"
   ]
  },
  {
   "cell_type": "markdown",
   "metadata": {},
   "source": [
    "5. Để nối một chuỗi mảng dọc theo một trục hiện có:\n"
   ]
  },
  {
   "cell_type": "code",
   "execution_count": null,
   "metadata": {},
   "outputs": [],
   "source": [
    "F = np.concatenate ((a, b), axis=0)"
   ]
  },
  {
   "cell_type": "markdown",
   "metadata": {},
   "source": [
    "6. Để lắp ráp một mảng từ các danh sách lồng nhau của các khối:\n"
   ]
  },
  {
   "cell_type": "code",
   "execution_count": null,
   "metadata": {},
   "outputs": [],
   "source": [
    "img = np.block ([[np.ones ((2, 2)), np.zeros ((2, 3))], [np.zeros ((2, 2)), np.ones ((2, 3))]])\n",
    "#Lưu ý: tất cả các kích thước của mảng đầu vào ngoại trừ trục nối phải khớp hoàn toàn."
   ]
  },
  {
   "cell_type": "markdown",
   "metadata": {},
   "source": [
    "### Lab Tasks:\n"
   ]
  },
  {
   "cell_type": "markdown",
   "metadata": {},
   "source": [
    "1. "
   ]
  },
  {
   "cell_type": "code",
   "execution_count": 2,
   "metadata": {},
   "outputs": [
    {
     "data": {
      "text/plain": [
       "[[1, 2, 3, 4, 5], [21, 22, 23, 24, 25], [31, 32, 33, 34, 35]]"
      ]
     },
     "execution_count": 2,
     "metadata": {},
     "output_type": "execute_result"
    }
   ],
   "source": [
    "x = [[1, 2, 3, 4, 5], [21, 22, 23, 24, 25], [31, 32, 33, 34, 35]] \n",
    "x\n"
   ]
  },
  {
   "cell_type": "code",
   "execution_count": 8,
   "metadata": {},
   "outputs": [
    {
     "name": "stdout",
     "output_type": "stream",
     "text": [
      "[24, 25]\n",
      "[3, 4]\n",
      "[32]\n",
      "[21, 23, 25]\n"
     ]
    }
   ],
   "source": [
    "x_1 = []\n",
    "x_2 = []\n",
    "x_3 = []\n",
    "x_4 = []\n",
    "for i in range(len(x)):\n",
    "    for j in range(len(x[i])):\n",
    "        if x[i][j] == 24  or x[i][j] == 25:\n",
    "            x_1.append(x[i][j])\n",
    "        if x[i][j] == 3 or x[i][j] == 4:\n",
    "            x_2.append(x[i][j])\n",
    "        if x[i][j] == 32:\n",
    "            x_3.append(x[i][j])\n",
    "        if x[i][j] == 21 or x[i][j] == 23 or x[i][j] == 25:\n",
    "            x_4.append(x[i][j])\n",
    "\n",
    "print( x_1)\n",
    "print(x_2)\n",
    "print(x_3)\n",
    "print(x_4)\n",
    "    "
   ]
  },
  {
   "cell_type": "code",
   "execution_count": 14,
   "metadata": {},
   "outputs": [
    {
     "name": "stdout",
     "output_type": "stream",
     "text": [
      "[3, 23, 33]\n"
     ]
    }
   ],
   "source": [
    "y = []\n",
    "\n",
    "for i in range(len(x)):\n",
    "    y.append( x[i][2] )\n",
    "print(y)"
   ]
  },
  {
   "cell_type": "markdown",
   "metadata": {},
   "source": [
    "2. "
   ]
  },
  {
   "cell_type": "code",
   "execution_count": 17,
   "metadata": {},
   "outputs": [
    {
     "name": "stdout",
     "output_type": "stream",
     "text": [
      "['1121', 'mnnm', 'aba']\n"
     ]
    }
   ],
   "source": [
    "x=['abc','1121', 'mnnm' , 'aba']\n",
    "\n",
    "x_new = []\n",
    "for i in x:\n",
    "    if len(i) > 2 and i[-1]==i[0]:\n",
    "        x_new.append(i)\n",
    "print(x_new)"
   ]
  },
  {
   "cell_type": "markdown",
   "metadata": {},
   "source": [
    "3. "
   ]
  },
  {
   "cell_type": "code",
   "execution_count": 18,
   "metadata": {},
   "outputs": [
    {
     "name": "stdout",
     "output_type": "stream",
     "text": [
      "['banana', 'mango', 'peach']\n"
     ]
    }
   ],
   "source": [
    "x=['apple', 'banana', 'mango', 'orange', 'peach' , 'grapes']\n",
    "\n",
    "x_new = []\n",
    "for i in range(len(x)):\n",
    "    if i!= 0 and i!= 3 and i!= 5:\n",
    "        x_new.append(x[i])\n",
    "print(x_new)\n"
   ]
  },
  {
   "cell_type": "markdown",
   "metadata": {},
   "source": [
    "4. "
   ]
  },
  {
   "cell_type": "code",
   "execution_count": 19,
   "metadata": {},
   "outputs": [
    {
     "data": {
      "image/png": "[encoded data removed]",
      "text/plain": [
       "<Figure size 500x500 with 1 Axes>"
      ]
     },
     "metadata": {},
     "output_type": "display_data"
    }
   ],
   "source": [
    "import matplotlib.pyplot as plt\n",
    "\n",
    "def draw_vertical_lines(image_size, line_width, num_lines):\n",
    "    fig, ax = plt.subplots(figsize=(image_size/100, image_size/100))\n",
    "    for i in range(num_lines):\n",
    "        ax.plot([i * (image_size / num_lines), i * (image_size / num_lines)], [0, image_size], 'k-', lw=line_width)\n",
    "    ax.set_xlim(0, image_size)\n",
    "    ax.set_ylim(0, image_size)\n",
    "    ax.axis('off')\n",
    "    plt.show()\n",
    "\n",
    "# Example usage\n",
    "draw_vertical_lines(500, 10, 10)\n"
   ]
  },
  {
   "cell_type": "code",
   "execution_count": 20,
   "metadata": {},
   "outputs": [
    {
     "data": {
      "image/png": "[encoded data removed]",
      "text/plain": [
       "<Figure size 500x500 with 1 Axes>"
      ]
     },
     "metadata": {},
     "output_type": "display_data"
    }
   ],
   "source": [
    "def draw_central_box(image_size, box_size):\n",
    "    fig, ax = plt.subplots(figsize=(image_size/100, image_size/100))\n",
    "    ax.add_patch(plt.Rectangle((0, 0), image_size, image_size, color='black'))\n",
    "    ax.add_patch(plt.Rectangle(((image_size - box_size) / 2, (image_size - box_size) / 2), box_size, box_size, color='white'))\n",
    "    ax.set_xlim(0, image_size)\n",
    "    ax.set_ylim(0, image_size)\n",
    "    ax.axis('off')\n",
    "    plt.show()\n",
    "\n",
    "# Example usage\n",
    "draw_central_box(500, 200)\n"
   ]
  },
  {
   "cell_type": "code",
   "execution_count": 21,
   "metadata": {},
   "outputs": [
    {
     "data": {
      "image/png": "[encoded data removed]",
      "text/plain": [
       "<Figure size 500x500 with 1 Axes>"
      ]
     },
     "metadata": {},
     "output_type": "display_data"
    }
   ],
   "source": [
    "def draw_grid(image_size, line_width, num_lines):\n",
    "    fig, ax = plt.subplots(figsize=(image_size/100, image_size/100))\n",
    "    spacing = image_size / (num_lines + 1)\n",
    "    for i in range(1, num_lines + 1):\n",
    "        ax.plot([i * spacing, i * spacing], [0, image_size], 'k-', lw=line_width)\n",
    "        ax.plot([0, image_size], [i * spacing, i * spacing], 'k-', lw=line_width)\n",
    "    ax.set_xlim(0, image_size)\n",
    "    ax.set_ylim(0, image_size)\n",
    "    ax.axis('off')\n",
    "    plt.show()\n",
    "\n",
    "# Example usage\n",
    "draw_grid(500, 10, 4)\n"
   ]
  },
  {
   "cell_type": "code",
   "execution_count": null,
   "metadata": {},
   "outputs": [],
   "source": []
  }
 ],
 "metadata": {
  "kernelspec": {
   "display_name": ".venv",
   "language": "python",
   "name": "python3"
  },
  "language_info": {
   "codemirror_mode": {
    "name": "ipython",
    "version": 3
   },
   "file_extension": ".py",
   "mimetype": "text/x-python",
   "name": "python",
   "nbconvert_exporter": "python",
   "pygments_lexer": "ipython3",
   "version": "3.12.4"
  }
 },
 "nbformat": 4,
 "nbformat_minor": 2
}
