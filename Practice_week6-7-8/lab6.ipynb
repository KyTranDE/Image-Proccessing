{
 "cells": [
  {
   "cell_type": "markdown",
   "metadata": {},
   "source": [
    "### 3.1 Ngưỡng Hình Ảnh\n",
    "\n",
    "Ngưỡng hình ảnh là cần thiết trong nhiều ứng dụng Thị giác Máy tính để phân chia hình ảnh thành các thành phần hoặc đoạn – còn được gọi là phân đoạn. Ví dụ, đếm số xe trong khu vực đậu xe yêu cầu phân đoạn các hình ảnh xe khỏi nền vỉa hè. Một khả năng là phân tích màu sắc và tách riêng vỉa hè xám tạo thành nền.\n",
    "\n",
    "Trong ngưỡng đơn giản, cùng một giá trị ngưỡng được áp dụng cho mọi pixel. Nếu giá trị pixel nhỏ hơn ngưỡng, nó được đặt thành 0, ngược lại nó được đặt thành giá trị tối đa. Hình ảnh kết quả là hình ảnh nhị phân. Hàm `cv2.threshold` được sử dụng để áp dụng ngưỡng và có cú pháp sau:\n",
    "\n"
   ]
  },
  {
   "cell_type": "code",
   "execution_count": null,
   "metadata": {},
   "outputs": [],
   "source": [
    "import cv2\n",
    "import numpy as np\n",
    "import matplotlib.pyplot as plt\n",
    "\n",
    "retval, dst = cv2.threshold(src, thresh, maxval, type[, dst])"
   ]
  },
  {
   "cell_type": "markdown",
   "metadata": {},
   "source": [
    "\n",
    "\n",
    "với các tham số:\n",
    "\n",
    "- **src**: Mảng đầu vào hoặc hình ảnh (đa kênh, 8-bit hoặc điểm thực 32-bit).\n",
    "- **thresh**: Giá trị ngưỡng.\n",
    "- **maxval**: Giá trị tối đa sử dụng với các loại ngưỡng `THRESH_BINARY` và `THRESH_BINARY_INV`.\n",
    "- **type**: Loại ngưỡng (cv2.THRESH_BINARY, cv2.THRESH_BINARY_INV, cv2.THRESH_TRUNC, cv2.THRESH_TOZERO, cv2.THRESH_TOZERO_INV). Thêm thông tin về các loại ngưỡng có thể được tìm thấy [tại đây](#).\n",
    "- **dst**: Mảng hoặc hình ảnh đầu ra cùng kích thước và kiểu với `src`, cùng số lượng kênh.\n",
    "- **retval**: Giá trị ngưỡng trong trường hợp sử dụng các loại ngưỡng như Otsu hoặc Triangle.\n",
    "\n",
    "**Ví dụ:**\n",
    "\n",
    "- **Ex. 3.1** Đọc các hình ảnh `grayShades.jpg` và `grayFlowers.jpg` dưới dạng hình ảnh thang độ xám. Thử nghiệm với nhiều loại ngưỡng khác nhau bằng cách thay đổi tham số `type` và giữ nguyên giá trị ngưỡng cho mỗi hình ảnh riêng biệt. Hiển thị và so sánh các hình ảnh đầu ra.\n",
    "- **Ex. 3.2** Đọc hình ảnh `adeverinta.jpg` dưới dạng thang độ xám và lặp lại bài tập trước đó. Bình luận về kết quả đầu ra.\n",
    "\n",
    "### 3.1.1 Ngưỡng Thích Ứng\n",
    "\n",
    "Ngưỡng đơn giản sử dụng một giá trị ngưỡng toàn cục (giá trị giống nhau cho tất cả các pixel trong hình ảnh). Ngưỡng thích ứng là phương pháp tính giá trị ngưỡng cho các vùng nhỏ hơn và do đó, sẽ có các giá trị ngưỡng khác nhau cho các vùng khác nhau.\n",
    "\n",
    "Trong OpenCV, ngưỡng thích ứng được triển khai bằng phương pháp `cv2.adaptiveThreshold`. Dưới đây là cú pháp của hàm này và các tham số của nó:\n",
    "\n",
    "```python\n",
    "dst = cv2.adaptiveThreshold(src, maxValue, adaptiveMethod, thresholdType, blockSize, C)\n",
    "```\n",
    "\n",
    "- **src**, **maxValue**, **dst**, **thresholdType**: Đại diện cho các tham số giống như trong thao tác ngưỡng đơn giản.\n",
    "- **adaptiveMethod**: Phương pháp tính giá trị ngưỡng. Có 2 lựa chọn:\n",
    "  - `cv2.ADAPTIVE_THRESH_MEAN_C` (trung bình của khối lân cận `blockSize x blockSize` trừ hằng số `C`)\n",
    "  - `cv2.ADAPTIVE_THRESH_GAUSSIAN_C` (ngưỡng là tổng trọng số Gaussian của các giá trị lân cận, trừ hằng số `C`).\n",
    "- **blockSize**: Kích thước của khu vực lân cận.\n",
    "- **C**: Hằng số được trừ từ trung bình.\n",
    "\n",
    "**Ví dụ:**\n",
    "\n",
    "- **Ex. 3.3** Đọc hình ảnh `adeverinta.jpg` dưới dạng thang độ xám và áp dụng ngưỡng thích ứng (cả hai tùy chọn). So sánh kết quả với các phương pháp trong Ex. 3.2 và giải thích các kết quả. Hình ảnh có điều kiện chiếu sáng khác nhau ở các khu vực khác nhau và bộ lọc làm mịn được áp dụng trước khi sử dụng ngưỡng thích ứng sẽ giảm nhiễu.\n",
    "\n",
    "### 3.1.2 Ngưỡng Otsu\n",
    "\n",
    "Thuật toán Otsu tính toán giá trị ngưỡng tối ưu cho các hình ảnh có hai mode (bimodal). Một hình ảnh bimodal chủ yếu chứa 2 màu sắc khác biệt, vì vậy histogram chỉ có 2 đỉnh. Ví dụ được trình bày trong Hình 1. Một ngưỡng tốt sẽ nằm giữa hai đỉnh đó, tại giá trị thùng tối thiểu. Phương pháp Otsu xác định giá trị ngưỡng toàn cục tối ưu từ histogram hình ảnh.\n",
    "\n",
    "![Hình 1. Hình ảnh gốc (trái) và histogram bimodal của kênh cường độ (phải)](#)\n",
    "\n",
    "Hàm `cv2.threshold()` được sử dụng để áp dụng thuật toán Otsu, trong đó `cv2.THRESH_OTSU` được truyền như một cờ bổ sung. Thuật toán lặp qua tất cả các ngưỡng có thể. Đối với mỗi ngưỡng, nó chia các giá trị cường độ hình ảnh thành 2 lớp và tính toán phương sai trong lớp cho hai lớp đó. Giá trị ngưỡng tối ưu là giá trị làm tối thiểu tổng phương sai trong lớp (tổng có trọng số của các phương sai trong lớp cho 2 lớp). Ngưỡng tối ưu này được trả về như là đầu ra đầu tiên.\n",
    "\n",
    "**Ví dụ:**\n",
    "\n",
    "- **Ex. 3.4** Đọc các hình ảnh `rose.jpg` và `yellowFl.jpg` dưới dạng thang độ xám và áp dụng ngưỡng Otsu. So sánh kết quả với các phương pháp trước đó. Thử nghiệm thêm với việc làm mịn Gaussian trước khi nhị phân hóa bằng Otsu.\n",
    "\n",
    "### 3.2 Các Phép Toán Hình Thơm\n",
    "\n",
    "Trong quá trình phân đoạn hình ảnh, sau khi áp dụng ngưỡng, các vùng trắng tương ứng với các đối tượng riêng biệt thường có các khuyết điểm cần được loại bỏ (hoặc ngược lại, các vùng đen có các chấm và đốm trắng không mong muốn). Những khuyết điểm này có thể được loại bỏ bằng các phép toán hình thái học.\n",
    "\n",
    "#### 3.2.1 Dilation (Xà Phu)\n",
    "\n",
    "Dilation có nghĩa là \"mở rộng\" hoặc trở nên lớn hơn. Các vùng trắng được mở rộng bằng cách sử dụng một phần tử cấu trúc di chuyển dọc theo rìa của vùng trắng. Một ví dụ được trình bày trong Hình 2, nơi một hình vuông trắng được xà phu bằng cách sử dụng phần tử cấu trúc là một hình tròn trắng.\n",
    "\n",
    "![Hình 2. Xà phu một hình vuông trắng (trái → phải) với phần tử cấu trúc là hình tròn](#)\n",
    "\n",
    "Phần tử cấu trúc có thể có nhiều hình dạng khác nhau và kết quả sau khi xà phu sẽ khác nhau. Hàm OpenCV tạo phần tử cấu trúc là `cv2.getStructuringElement`. Hàm thực hiện dilation trong OpenCV là:\n",
    "\n"
   ]
  },
  {
   "cell_type": "code",
   "execution_count": null,
   "metadata": {},
   "outputs": [],
   "source": [
    "\n",
    "dst = cv2.dilate(src, kernel[, dst[, anchor[, iterations[, borderType[, borderValue]]]]])\n"
   ]
  },
  {
   "cell_type": "markdown",
   "metadata": {},
   "source": [
    "\n",
    "\n",
    "với các tham số:\n",
    "\n",
    "- **src**: Hình ảnh đầu vào; số lượng kênh có thể tùy ý, nhưng độ sâu phải là một trong các giá trị `CV_8U`, `CV_16U`, `CV_16S`, `CV_32F` hoặc `CV_64F`.\n",
    "- **dst**: Hình ảnh đầu ra cùng kích thước và kiểu với `src`.\n",
    "- **kernel**: Phần tử cấu trúc được sử dụng cho dilation; nếu không chỉ định kernel, một phần tử cấu trúc hình chữ nhật 3x3 sẽ được sử dụng.\n",
    "- **anchor**: Vị trí neo trong phần tử; giá trị mặc định `(-1, -1)` nghĩa là neo ở trung tâm phần tử.\n",
    "- **iterations**: Số lần dilation được áp dụng; mặc định là 1.\n",
    "- **borderType**: Phương pháp nội suy pixel.\n",
    "- **borderValue**: Giá trị biên trong trường hợp có biên cố định.\n",
    "\n",
    "**Ví dụ:**\n",
    "\n",
    "- **Ex. 3.5** Đọc hình ảnh `euro.jpg` và chuyển đổi nó thành hình ảnh nhị phân bằng cách sử dụng thao tác ngưỡng đơn giản với giá trị ngưỡng là 212. Các đồng tiền nên chủ yếu màu trắng (với một số khuyết điểm – xem Hình 3 – mặt nạ ở phía bên trái) trên nền đen. Cố gắng loại bỏ các khuyết điểm bằng cách xà phu, sử dụng 2 phần tử cấu trúc: `cv2.MORPH_ELLIPSE` kích thước 7x7 và sau đó là kernel nhỏ hơn 3x3. Bắt đầu với 1 lần lặp cho cả hai kernel, sau đó tăng lên 2 lần lặp. Một ví dụ về mặt nạ đầu ra mong muốn được trình bày trong Hình 3, ở phía bên phải. Đầu ra mong muốn nên đánh dấu các đồng tiền với các hình tròn màu trắng đầy đủ và các hình tròn trắng không được nối với nhau. Bình luận về kết quả.\n",
    "\n",
    "![Hình 3. Trái: mặt nạ gốc với khuyết điểm. Phải: mặt nạ chính xác thu được với các khuyết điểm hình thái học đã được loại bỏ](#)\n",
    "\n",
    "#### 3.2.2 Erosion (Xóa Phu)\n",
    "\n",
    "Ngược lại với dilation là erosion. Erosion có nghĩa là dần dần mòn đi hoặc phá hủy (đất hoặc đá). Hiệu ứng của erosion là thu nhỏ một hình dạng. Trong dilation, khối lượng được thêm vào các vùng trắng, trong khi trong erosion khối lượng bị loại bỏ khỏi rìa của vùng trắng, như thể một tẩy xóa được di chuyển dọc theo rìa của đối tượng. Một ví dụ về erosion được trình bày trong Hình 4.\n",
    "\n",
    "![Hình 4. Hình vuông trắng bị erosion sử dụng phần tử cấu trúc hình tròn](#)\n",
    "\n",
    "Hàm OpenCV thực hiện erosion là `cv2.erode` và nó có cùng bộ tham số với `cv2.dilate`.\n",
    "\n"
   ]
  },
  {
   "cell_type": "code",
   "execution_count": null,
   "metadata": {},
   "outputs": [],
   "source": [
    "dst = cv2.erode(src, kernel[, dst[, anchor[, iterations[, borderType[, borderValue]]]]])\n"
   ]
  },
  {
   "cell_type": "markdown",
   "metadata": {},
   "source": [
    "\n",
    "\n",
    "#### 3.2.3 Opening và Closing (Mở và Đóng)\n",
    "\n",
    "Trong trường hợp mặt nạ nhị phân chứa các chấm trắng nhỏ cần được loại bỏ, các phép toán cần thiết là erosion theo sau bởi dilation. Kết hợp theo thứ tự này, phép toán này được gọi là mở hình thái học và được minh họa trong Hình 5.\n",
    "\n",
    "![Hình 5. Trái: hình ảnh nhị phân gốc. Trung: hình ảnh sau erosion. Phải: hình ảnh sau dilation](#)\n",
    "\n",
    "Các lỗ đen nhỏ bên trong các vùng trắng có thể được lấp đầy bằng cách thực hiện dilation theo sau bởi erosion. Phép toán này được gọi là đóng hình thái học và được hiển thị trong Hình 6.\n",
    "\n",
    "![Hình 6. Trái: mặt nạ nhị phân gốc với 3 lỗ nhỏ. Trung: hình ảnh sau dilation. Phải: hình ảnh sau erosion](#)\n",
    "\n",
    "Trong OpenCV, các phép toán mở và đóng được triển khai bằng cách sử dụng hàm `cv2.morphologyEx`, với cú pháp sau:\n",
    "\n"
   ]
  },
  {
   "cell_type": "code",
   "execution_count": null,
   "metadata": {},
   "outputs": [],
   "source": [
    "imOpened = cv2.morphologyEx(src, cv2.MORPH_OPEN, kernel[, dst[, anchor[, iterations[, borderType[, borderValue]]]]])\n",
    "imClosed = cv2.morphologyEx(src, cv2.MORPH_CLOSE, kernel[, dst[, anchor[, iterations[, borderType[, borderValue]]]]])\n"
   ]
  },
  {
   "cell_type": "markdown",
   "metadata": {},
   "source": [
    "\n",
    "\n",
    "Các tham số của hàm là:\n",
    "\n",
    "- **src**: Hình ảnh nguồn. Số lượng kênh có thể tùy ý. Độ sâu có thể là: `CV_8U`, `CV_16U`, `CV_16S`, `CV_32F` hoặc `CV_64F`.\n",
    "- **dst**: Hình ảnh đích cùng kích thước và kiểu với hình ảnh nguồn.\n",
    "- **op**: Loại phép toán hình thái học (`cv2.MORPH_OPEN` / `cv2.MORPH_CLOSE`). Các loại phép toán hình thái học khác bao gồm: `cv2.MORPH_ERODE`, `cv2.MORPH_DILATE`, `cv2.MORPH_GRADIENT`, `cv2.MORPH_TOPHAT`, `cv2.MORPH_BLACKHAT`, `cv2.MORPH_HITMISS`. Thêm thông tin có thể được tìm thấy [tại đây](#).\n",
    "- **kernel**: Phần tử cấu trúc. Có thể được tạo bằng cách sử dụng `cv2.getStructuringElement`.\n",
    "- **anchor**: Vị trí neo với kernel. Các giá trị âm nghĩa là neo ở trung tâm kernel.\n",
    "- **iterations**: Số lần erosion và dilation được áp dụng. Giá trị mặc định là 1. Với 2 lần lặp, nó sẽ áp dụng liên tiếp erosion → erosion → dilation → dilation.\n",
    "- **borderType**: Phương pháp nội suy pixel. Thêm chi tiết có thể được tìm thấy [tại đây](#).\n",
    "- **borderValue**: Giá trị biên trong trường hợp có biên cố định.\n",
    "\n",
    "**Ví dụ:**\n",
    "\n",
    "- **Ex. 3.6** Đọc hình ảnh `Coins.png` và chuyển đổi nó thành hình ảnh thang độ xám. Tách nó thành 3 kênh màu. Sau đó quyết định trong 4 ma trận trước đó (thang độ xám, xanh lam, xanh lục, đỏ) ma trận nào có thể được sử dụng để tạo mặt nạ nhị phân cho các đồng tiền. Sử dụng ngưỡng và các phép toán hình thái học (dilation, erosion, mở, đóng) để có được mặt nạ nhị phân đó, như minh họa trong Hình 7.\n",
    "\n",
    "![Hình 7. Hình ảnh các đồng tiền và mặt nạ nhị phân](#)\n",
    "\n",
    "### 3.1.2 Ngưỡng Otsu\n",
    "\n",
    "Thuật toán Otsu tính toán giá trị ngưỡng tối ưu cho các hình ảnh có hai mode (bimodal). Một hình ảnh bimodal chủ yếu chứa 2 màu sắc khác biệt, vì vậy histogram chỉ có 2 đỉnh. Ví dụ được trình bày trong Hình 1. Một ngưỡng tốt sẽ nằm giữa hai đỉnh đó, tại giá trị thùng tối thiểu. Phương pháp Otsu xác định giá trị ngưỡng toàn cục tối ưu từ histogram hình ảnh.\n",
    "\n",
    "Hàm `cv2.threshold()` được sử dụng để áp dụng thuật toán Otsu, trong đó `cv2.THRESH_OTSU` được truyền như một cờ bổ sung. Thuật toán lặp qua tất cả các ngưỡng có thể. Đối với mỗi ngưỡng, nó chia các giá trị cường độ hình ảnh thành 2 lớp và tính toán phương sai trong lớp cho hai lớp đó. Giá trị ngưỡng tối ưu là giá trị làm tối thiểu tổng phương sai trong lớp (tổng có trọng số của các phương sai trong lớp cho 2 lớp). Ngưỡng tối ưu này được trả về như là đầu ra đầu tiên.\n",
    "\n",
    "**Ví dụ:**\n",
    "\n",
    "- **Ex. 3.4** Đọc các hình ảnh `rose.jpg` và `yellowFl.jpg` dưới dạng thang độ xám và áp dụng ngưỡng Otsu. So sánh kết quả với các phương pháp trước đó. Thử nghiệm thêm với việc làm mịn Gaussian trước khi nhị phân hóa bằng Otsu.\n",
    "\n",
    "### 3.2 Các Phép Toán Hình Thơm\n",
    "\n",
    "Trong quá trình phân đoạn hình ảnh, sau khi áp dụng ngưỡng, các vùng trắng tương ứng với các đối tượng riêng biệt thường có các khuyết điểm cần được loại bỏ (hoặc ngược lại, các vùng đen có các chấm và đốm trắng không mong muốn). Những khuyết điểm này có thể được loại bỏ bằng các phép toán hình thái học.\n",
    "\n",
    "#### 3.2.1 Dilation (Xà Phu)\n",
    "\n",
    "Dilation có nghĩa là \"mở rộng\" hoặc trở nên lớn hơn. Các vùng trắng được mở rộng bằng cách sử dụng một phần tử cấu trúc di chuyển dọc theo rìa của vùng trắng. Một ví dụ được trình bày trong Hình 2, nơi một hình vuông trắng được xà phu bằng cách sử dụng phần tử cấu trúc là một hình tròn trắng.\n",
    "\n",
    "![Hình 2. Xà phu một hình vuông trắng (trái → phải) với phần tử cấu trúc là hình tròn](#)\n",
    "\n",
    "Phần tử cấu trúc có thể có nhiều hình dạng khác nhau và kết quả sau khi xà phu sẽ khác nhau. Hàm OpenCV tạo phần tử cấu trúc là `cv2.getStructuringElement`. Hàm thực hiện dilation trong OpenCV là:\n",
    "\n"
   ]
  },
  {
   "cell_type": "code",
   "execution_count": null,
   "metadata": {},
   "outputs": [],
   "source": [
    "dst = cv2.dilate(src, kernel[, dst[, anchor[, iterations[, borderType[, borderValue]]]]])\n"
   ]
  },
  {
   "cell_type": "markdown",
   "metadata": {},
   "source": [
    "\n",
    "với các tham số:\n",
    "\n",
    "- **src**: Hình ảnh đầu vào; số lượng kênh có thể tùy ý, nhưng độ sâu phải là một trong các giá trị `CV_8U`, `CV_16U`, `CV_16S`, `CV_32F` hoặc `CV_64F`.\n",
    "- **dst**: Hình ảnh đầu ra cùng kích thước và kiểu với `src`.\n",
    "- **kernel**: Phần tử cấu trúc được sử dụng cho dilation; nếu không chỉ định kernel, một phần tử cấu trúc hình chữ nhật 3x3 sẽ được sử dụng.\n",
    "- **anchor**: Vị trí neo trong phần tử; giá trị mặc định `(-1, -1)` nghĩa là neo ở trung tâm phần tử.\n",
    "- **iterations**: Số lần dilation được áp dụng; mặc định là 1.\n",
    "- **borderType**: Phương pháp nội suy pixel.\n",
    "- **borderValue**: Giá trị biên trong trường hợp có biên cố định.\n",
    "\n",
    "**Ví dụ:**\n",
    "\n",
    "- **Ex. 3.5** Đọc hình ảnh `euro.jpg` và chuyển đổi nó thành hình ảnh nhị phân bằng cách sử dụng thao tác ngưỡng đơn giản với giá trị ngưỡng là 212. Các đồng tiền nên chủ yếu màu trắng (với một số khuyết điểm – xem Hình 3 – mặt nạ ở phía bên trái) trên nền đen. Cố gắng loại bỏ các khuyết điểm bằng cách xà phu, sử dụng 2 phần tử cấu trúc: `cv2.MORPH_ELLIPSE` kích thước 7x7 và sau đó là kernel nhỏ hơn 3x3. Bắt đầu với 1 lần lặp cho cả hai kernel, sau đó tăng lên 2 lần lặp. Một ví dụ về mặt nạ đầu ra mong muốn được trình bày trong Hình 3, ở phía bên phải. Đầu ra mong muốn nên đánh dấu các đồng tiền với các hình tròn màu trắng đầy đủ và các hình tròn trắng không được nối với nhau. Bình luận về kết quả.\n",
    "\n",
    "![Hình 3. Trái: mặt nạ gốc với khuyết điểm. Phải: mặt nạ chính xác thu được với các khuyết điểm hình thái học đã được loại bỏ](#)\n",
    "\n",
    "#### 3.2.2 Erosion (Xóa Phu)\n",
    "\n",
    "Ngược lại với dilation là erosion. Erosion có nghĩa là dần dần mòn đi hoặc phá hủy (đất hoặc đá). Hiệu ứng của erosion là thu nhỏ một hình dạng. Trong dilation, khối lượng được thêm vào các vùng trắng, trong khi trong erosion khối lượng bị loại bỏ khỏi rìa của vùng trắng, như thể một tẩy xóa được di chuyển dọc theo rìa của đối tượng. Một ví dụ về erosion được trình bày trong Hình 4.\n",
    "\n",
    "![Hình 4. Hình vuông trắng bị erosion sử dụng phần tử cấu trúc hình tròn](#)\n",
    "\n",
    "Hàm OpenCV thực hiện erosion là `cv2.erode` và nó có cùng bộ tham số với `cv2.dilate`.\n"
   ]
  },
  {
   "cell_type": "code",
   "execution_count": null,
   "metadata": {},
   "outputs": [],
   "source": [
    "dst = cv2.erode(src, kernel[, dst[, anchor[, iterations[, borderType[, borderValue]]]]])"
   ]
  },
  {
   "cell_type": "markdown",
   "metadata": {},
   "source": [
    "\n",
    "\n",
    "#### 3.2.3 Opening và Closing (Mở và Đóng)\n",
    "\n",
    "Trong trường hợp mặt nạ nhị phân chứa các chấm trắng nhỏ cần được loại bỏ, các phép toán cần thiết là erosion theo sau bởi dilation. Kết hợp theo thứ tự này, phép toán này được gọi là mở hình thái học và được minh họa trong Hình 5.\n",
    "\n",
    "![Hình 5. Trái: hình ảnh nhị phân gốc. Trung: hình ảnh sau erosion. Phải: hình ảnh sau dilation](#)\n",
    "\n",
    "Các lỗ đen nhỏ bên trong các vùng trắng có thể được lấp đầy bằng cách thực hiện dilation theo sau bởi erosion. Phép toán này được gọi là đóng hình thái học và được hiển thị trong Hình 6.\n",
    "\n",
    "![Hình 6. Trái: mặt nạ nhị phân gốc với 3 lỗ nhỏ. Trung: hình ảnh sau dilation. Phải: hình ảnh sau erosion](#)\n",
    "\n",
    "Trong OpenCV, các phép toán mở và đóng được triển khai bằng cách sử dụng hàm `cv2.morphologyEx`, với cú pháp sau:\n",
    "\n"
   ]
  },
  {
   "cell_type": "code",
   "execution_count": null,
   "metadata": {},
   "outputs": [],
   "source": [
    "imOpened = cv2.morphologyEx(src, cv2.MORPH_OPEN, kernel[, dst[, anchor[, iterations[, borderType[, borderValue]]]]])\n",
    "imClosed = cv2.morphologyEx(src, cv2.MORPH_CLOSE, kernel[, dst[, anchor[, iterations[, borderType[, borderValue]]]]])"
   ]
  },
  {
   "cell_type": "markdown",
   "metadata": {},
   "source": [
    "\n",
    "\n",
    "Các tham số của hàm là:\n",
    "\n",
    "- **src**: Hình ảnh nguồn. Số lượng kênh có thể tùy ý. Độ sâu có thể là: `CV_8U`, `CV_16U`, `CV_16S`, `CV_32F` hoặc `CV_64F`.\n",
    "- **dst**: Hình ảnh đích cùng kích thước và kiểu với hình ảnh nguồn.\n",
    "- **op**: Loại phép toán hình thái học (`cv2.MORPH_OPEN` / `cv2.MORPH_CLOSE`). Các loại phép toán hình thái học khác bao gồm: `cv2.MORPH_ERODE`, `cv2.MORPH_DILATE`, `cv2.MORPH_GRADIENT`, `cv2.MORPH_TOPHAT`, `cv2.MORPH_BLACKHAT`, `cv2.MORPH_HITMISS`.\n",
    "- **kernel**: Phần tử cấu trúc. Có thể được tạo bằng cách sử dụng `cv2.getStructuringElement`.\n",
    "- **anchor**: Vị trí neo với kernel. Các giá trị âm nghĩa là neo ở trung tâm kernel.\n",
    "- **iterations**: Số lần erosion và dilation được áp dụng. Giá trị mặc định là 1. Với 2 lần lặp, nó sẽ áp dụng liên tiếp erosion → erosion → dilation → dilation.\n",
    "- **borderType**: Phương pháp nội suy pixel.\n",
    "- **borderValue**: Giá trị biên trong trường hợp có biên cố định.\n",
    "\n",
    "**Ví dụ:**\n",
    "\n",
    "- **Ex. 3.6** Đọc hình ảnh `Coins.png` và chuyển đổi nó thành hình ảnh thang độ xám. Tách nó thành 3 kênh màu. Sau đó quyết định trong 4 ma trận trước đó (thang độ xám, xanh lam, xanh lục, đỏ) ma trận nào có thể được sử dụng để tạo mặt nạ nhị phân cho các đồng tiền. Sử dụng ngưỡng và các phép toán hình thái học (dilation, erosion, mở, đóng) để có được mặt nạ nhị phân đó, như minh họa trong Hình 7.\n",
    "\n",
    "![Hình 7. Hình ảnh các đồng tiền và mặt nạ nhị phân](#)"
   ]
  }
 ],
 "metadata": {
  "kernelspec": {
   "display_name": "Python 3",
   "language": "python",
   "name": "python3"
  },
  "language_info": {
   "name": "python",
   "version": "3.10.12"
  }
 },
 "nbformat": 4,
 "nbformat_minor": 2
}
