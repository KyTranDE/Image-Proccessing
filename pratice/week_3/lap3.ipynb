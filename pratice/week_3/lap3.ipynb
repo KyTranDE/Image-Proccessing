{
 "cells": [
  {
   "cell_type": "markdown",
   "metadata": {},
   "source": [
    "# Numpy to Python"
   ]
  },
  {
   "cell_type": "code",
   "execution_count": 1,
   "metadata": {},
   "outputs": [],
   "source": [
    "import numpy as np"
   ]
  },
  {
   "cell_type": "markdown",
   "metadata": {},
   "source": [
    "# create an array from a list of  values"
   ]
  },
  {
   "cell_type": "code",
   "execution_count": 2,
   "metadata": {},
   "outputs": [
    {
     "name": "stdout",
     "output_type": "stream",
     "text": [
      "[20.  2.  5.]\n"
     ]
    }
   ],
   "source": [
    "list_of_values = [20.,2.,5.]\n",
    "x = np.array(list_of_values)\n",
    "print(x)"
   ]
  },
  {
   "cell_type": "code",
   "execution_count": 5,
   "metadata": {},
   "outputs": [
    {
     "name": "stdout",
     "output_type": "stream",
     "text": [
      "[[[20]\n",
      "  [ 2]\n",
      "  [ 5]]]\n"
     ]
    }
   ],
   "source": [
    "more_values = [[[20],[2],[5]]]\n",
    "y = np.array(more_values, dtype=np.int32)\n",
    "print(y)"
   ]
  },
  {
   "cell_type": "markdown",
   "metadata": {},
   "source": [
    "# how to create an array"
   ]
  },
  {
   "cell_type": "code",
   "execution_count": 6,
   "metadata": {},
   "outputs": [
    {
     "name": "stdout",
     "output_type": "stream",
     "text": [
      "[0 0]\n"
     ]
    }
   ],
   "source": [
    "X =np.array([5,5])\n",
    "zeros = np.zeros_like(X) # create array [0,0]\n",
    "print(zeros)"
   ]
  },
  {
   "cell_type": "code",
   "execution_count": 8,
   "metadata": {},
   "outputs": [
    {
     "name": "stdout",
     "output_type": "stream",
     "text": [
      "[1. 1.]\n"
     ]
    }
   ],
   "source": [
    "ones = np.ones_like(X, dtype=np.float32) # create array [1. 1.]\n",
    "print(ones)"
   ]
  },
  {
   "cell_type": "markdown",
   "metadata": {},
   "source": [
    "# how to create an array"
   ]
  },
  {
   "cell_type": "code",
   "execution_count": 9,
   "metadata": {},
   "outputs": [
    {
     "name": "stdout",
     "output_type": "stream",
     "text": [
      "[0 1 2 3 4]\n",
      "[2 3 4]\n",
      "[2 4]\n"
     ]
    }
   ],
   "source": [
    "# create an array containing [0,1,2,3,4]\n",
    "x= np.arange(5)\n",
    "print(x)\n",
    "# create an array containing [2,3,4]\n",
    "y = np.arange(2,5)\n",
    "print(y)\n",
    "# create an array containing [2,4]\n",
    "z = np.arange(2,5,2)\n",
    "print(z)"
   ]
  },
  {
   "cell_type": "code",
   "execution_count": 10,
   "metadata": {},
   "outputs": [
    {
     "name": "stdout",
     "output_type": "stream",
     "text": [
      "[[1. 0. 0. 0. 0.]\n",
      " [0. 1. 0. 0. 0.]\n",
      " [0. 0. 1. 0. 0.]\n",
      " [0. 0. 0. 1. 0.]\n",
      " [0. 0. 0. 0. 1.]]\n"
     ]
    }
   ],
   "source": [
    "X = np.eye(5) # create identity matrix of size 5\n",
    "print(X)"
   ]
  },
  {
   "cell_type": "code",
   "execution_count": 11,
   "metadata": {},
   "outputs": [
    {
     "name": "stdout",
     "output_type": "stream",
     "text": [
      "[[0.32820144 0.10073119 0.99812916 0.64786679 0.03761148]\n",
      " [0.30771765 0.65736688 0.42687854 0.20042723 0.92978988]\n",
      " [0.04152951 0.65940289 0.51992967 0.4267471  0.90131586]]\n"
     ]
    }
   ],
   "source": [
    "#create an random matrix of size 3x5\n",
    "X = np.random.rand(3,5)\n",
    "print(X)"
   ]
  },
  {
   "cell_type": "code",
   "execution_count": 12,
   "metadata": {},
   "outputs": [
    {
     "name": "stdout",
     "output_type": "stream",
     "text": [
      "[[7 7]\n",
      " [7 7]]\n"
     ]
    }
   ],
   "source": [
    "#create and matrix 2*2 matrix in which each element is 7\n",
    "X = np.full((2,2), 7)\n",
    "print(X)"
   ]
  },
  {
   "cell_type": "code",
   "execution_count": 14,
   "metadata": {},
   "outputs": [
    {
     "name": "stdout",
     "output_type": "stream",
     "text": [
      "[[7. 7.]\n",
      " [7. 7.]]\n"
     ]
    }
   ],
   "source": [
    "#create a 2*2 matrix in which each element is 7\n",
    "X = np.ones((2,2))* 7\n",
    "print(X)"
   ]
  },
  {
   "cell_type": "markdown",
   "metadata": {},
   "source": [
    "# attributes"
   ]
  },
  {
   "cell_type": "code",
   "execution_count": 15,
   "metadata": {},
   "outputs": [
    {
     "name": "stdout",
     "output_type": "stream",
     "text": [
      "float64\n",
      "int32\n"
     ]
    }
   ],
   "source": [
    "x= np.array([2.,5.,3.])\n",
    "y= np.array([2.,5.,3.],dtype=np.int32)\n",
    "\n",
    "print(x.dtype)\n",
    "print(y.dtype)"
   ]
  },
  {
   "cell_type": "code",
   "execution_count": 16,
   "metadata": {},
   "outputs": [
    {
     "name": "stdout",
     "output_type": "stream",
     "text": [
      "(3,)\n",
      "(2, 4, 1, 2, 3)\n"
     ]
    }
   ],
   "source": [
    "x= np.array([2.,5.,3.])\n",
    "print(x.shape)\n",
    "y = np.ones((2,4,1,2,3))\n",
    "print(y.shape)"
   ]
  },
  {
   "cell_type": "markdown",
   "metadata": {},
   "source": [
    "# Changing the shape of arrays"
   ]
  },
  {
   "cell_type": "code",
   "execution_count": 17,
   "metadata": {},
   "outputs": [
    {
     "name": "stdout",
     "output_type": "stream",
     "text": [
      "(2, 2, 3)\n"
     ]
    }
   ],
   "source": [
    "x = np.full((2,2,3),7)\n",
    "print(x.shape)\n",
    "x = np.expand_dims(x, axis=0)\n",
    "assert x.shape == (1,2,2,3)\n",
    "x = np.expand_dims(x, axis=-1)\n",
    "assert x.shape == (1,2,2,3,1)"
   ]
  },
  {
   "cell_type": "code",
   "execution_count": 23,
   "metadata": {},
   "outputs": [
    {
     "name": "stdout",
     "output_type": "stream",
     "text": [
      "(10,)\n",
      "(2, 5)\n"
     ]
    }
   ],
   "source": [
    "x = np.arange((10)) # [0,1,2,3,4,5,6,7,8,9]\n",
    "print(x.shape)\n",
    "y = np.reshape(x,(2,5)) # [[0,1,2,3,4],[5,6,7,8,9]]\n",
    "assert y.shape == (2,5)\n",
    "print(y.shape)"
   ]
  },
  {
   "cell_type": "code",
   "execution_count": 26,
   "metadata": {},
   "outputs": [
    {
     "name": "stdout",
     "output_type": "stream",
     "text": [
      "[ 0  1  2  3  4  5  6  7  8  9 10 11 12 13 14 15 16 17 18 19]\n"
     ]
    }
   ],
   "source": [
    "x = np.arange((20)) \n",
    "print((x))\n",
    "y  = np.reshape(x,(2,-1,2))\n",
    "assert y.shape == (2,5,2)"
   ]
  },
  {
   "cell_type": "code",
   "execution_count": 28,
   "metadata": {},
   "outputs": [],
   "source": [
    "# x = np.arange((20))\n",
    "# y = np.reshape(x,(2,-1,-1)) #values Error : can only specify one unknown dimension\n",
    "# print(y.shape)"
   ]
  },
  {
   "cell_type": "code",
   "execution_count": 30,
   "metadata": {},
   "outputs": [
    {
     "name": "stdout",
     "output_type": "stream",
     "text": [
      "(20,)\n",
      "(20, 1, 1)\n"
     ]
    }
   ],
   "source": [
    "x = np.full((20,1,1),5)\n",
    "y = np.squeeze(x)\n",
    "assert y.shape == (20,)\n",
    "print(y.shape)\n",
    "print(x.shape)"
   ]
  },
  {
   "cell_type": "code",
   "execution_count": 32,
   "metadata": {},
   "outputs": [
    {
     "name": "stdout",
     "output_type": "stream",
     "text": [
      "(20, 1)\n",
      "(20, 1, 1)\n"
     ]
    }
   ],
   "source": [
    "x = np.full((20,1,1),5)\n",
    "y = np.squeeze(x,axis=1)\n",
    "assert y.shape == (20,1)\n",
    "print(y.shape)\n",
    "print(x.shape)"
   ]
  },
  {
   "cell_type": "markdown",
   "metadata": {},
   "source": [
    "# Elements of arrays"
   ]
  },
  {
   "cell_type": "code",
   "execution_count": 33,
   "metadata": {},
   "outputs": [
    {
     "name": "stdout",
     "output_type": "stream",
     "text": [
      "10\n"
     ]
    }
   ],
   "source": [
    "# get the 10th element of the array\n",
    "x = np.arange(20)\n",
    "elem = x[10] # 10\n",
    "print(elem)"
   ]
  },
  {
   "cell_type": "code",
   "execution_count": 34,
   "metadata": {},
   "outputs": [
    {
     "name": "stdout",
     "output_type": "stream",
     "text": [
      "10\n"
     ]
    }
   ],
   "source": [
    "# get the 10th element of the array\n",
    "x = np.arange(20)\n",
    "elemem = x.item(10) # 10\n",
    "print(elemem)"
   ]
  },
  {
   "cell_type": "code",
   "execution_count": 36,
   "metadata": {},
   "outputs": [
    {
     "name": "stdout",
     "output_type": "stream",
     "text": [
      "[10 11 12 13 14]\n",
      "[10 11 12]\n",
      "[ 0  3  6  9 12 15 18]\n"
     ]
    }
   ],
   "source": [
    "# get elements with index in [10,15]\n",
    "x = np.arange(20)\n",
    "elements = x[10:15] # [10,11,12,13,14]\n",
    "print(elements)\n",
    "\n",
    "# get elements with index in [10: len(Array)-7]\n",
    "more_elements = x[10:-7] # [10,11,12,13]\n",
    "assert np.array_equal(more_elements, x[10:13])\n",
    "print(more_elements)\n",
    "\n",
    "# get elements whose index is a multiple of 3, starting from index 0\n",
    "array = x[::3] # [0,3,6,9,12,15,18]\n",
    "assert np.array_equal(array, [0,3,6,9,12,15,18])\n",
    "print(array)"
   ]
  },
  {
   "cell_type": "code",
   "execution_count": 37,
   "metadata": {},
   "outputs": [
    {
     "name": "stdout",
     "output_type": "stream",
     "text": [
      "[[3 3 4]\n",
      " [3 3 4]\n",
      " [3 3 4]\n",
      " [3 3 4]\n",
      " [3 3 4]]\n"
     ]
    }
   ],
   "source": [
    "x = np.full((5,2),3)\n",
    "y = np.full((5,1),4)\n",
    "z = np.concatenate([x,y], axis=-1)\n",
    "print(z) # [[3 3 4], [3 3 4], [3 3 4], [3 3 4], [3 3 4]]\n",
    "assert z.shape == (5,3)"
   ]
  },
  {
   "cell_type": "markdown",
   "metadata": {},
   "source": [
    "# NumPy math: sum and subtraction"
   ]
  },
  {
   "cell_type": "code",
   "execution_count": 40,
   "metadata": {},
   "outputs": [
    {
     "name": "stdout",
     "output_type": "stream",
     "text": [
      "(4, 2, 3)\n",
      "(4, 2, 3)\n",
      "[[[9 9 9]\n",
      "  [9 9 9]]\n",
      "\n",
      " [[9 9 9]\n",
      "  [9 9 9]]\n",
      "\n",
      " [[9 9 9]\n",
      "  [9 9 9]]\n",
      "\n",
      " [[9 9 9]\n",
      "  [9 9 9]]]\n",
      "[[[7 7 7]\n",
      "  [7 7 7]]\n",
      "\n",
      " [[7 7 7]\n",
      "  [7 7 7]]\n",
      "\n",
      " [[7 7 7]\n",
      "  [7 7 7]]\n",
      "\n",
      " [[7 7 7]\n",
      "  [7 7 7]]]\n"
     ]
    }
   ],
   "source": [
    "x = np.full((4,2,3),8) # 4*2*3 array, full of 7\n",
    "y = np.ones_like(x) # 4*2*3 array, full of 1\n",
    "\n",
    "print(x.shape) \n",
    "print(y.shape)\n",
    "\n",
    "# sum cuar 2 a array\n",
    "z = x + y\n",
    "print(z)\n",
    "assert np.array_equal(z,np.ones_like(x)*9)\n",
    "\n",
    "# subtract two arrays\n",
    "z = x - y\n",
    "print(z)\n",
    "assert np.array_equal(z,np.ones_like(x)*7)"
   ]
  },
  {
   "cell_type": "markdown",
   "metadata": {},
   "source": [
    "# NumPy math: multiplication"
   ]
  },
  {
   "cell_type": "code",
   "execution_count": 41,
   "metadata": {},
   "outputs": [
    {
     "name": "stdout",
     "output_type": "stream",
     "text": [
      "(4, 2, 3)\n",
      "(4, 2, 3)\n"
     ]
    }
   ],
   "source": [
    "x = np.full((4,2,3),8) # 4*2*3 array, full of 8\n",
    "y = np.ones_like(x)*2 # 4*2*3 array, full of 2\n",
    "\n",
    "# multiplication element-wise two arrays\n",
    "mul = x*y\n",
    "print(mul.shape)\n",
    "assert np.array_equal(mul, np.ones_like(x)*16)\n",
    "\n",
    "#subtract two arrays\n",
    "mul2 = np.multiply(x,y)\n",
    "print(mul2.shape)\n",
    "assert np.array_equal(mul2, np.ones_like(x)*16)\n"
   ]
  },
  {
   "cell_type": "code",
   "execution_count": 42,
   "metadata": {},
   "outputs": [
    {
     "name": "stdout",
     "output_type": "stream",
     "text": [
      "(4, 2, 3)\n",
      "(3, 3)\n"
     ]
    }
   ],
   "source": [
    "x1 = np.full((4,2,3),8) # 4*2*3 array, full of 8\n",
    "x2 = np.full((3,3),7) # 3*3 array, full of 7\n",
    "y = np.eye(3) # 3*3 diagonalam array\n",
    "\n",
    "# multiplication element-wise two arrays\n",
    "mul = np.matmul(x1,y) \n",
    "print(mul.shape)\n",
    "assert np.array_equal(mul, x1)\n",
    "\n",
    "#matrix multiplication\n",
    "mul2 = np.matmul(x2,y)\n",
    "print(mul2.shape)\n",
    "assert np.array_equal(mul2, x2)"
   ]
  },
  {
   "cell_type": "markdown",
   "metadata": {},
   "source": [
    "# Conditions"
   ]
  },
  {
   "cell_type": "code",
   "execution_count": 43,
   "metadata": {},
   "outputs": [
    {
     "name": "stdout",
     "output_type": "stream",
     "text": [
      "[0 1 2 3 4]\n",
      "[  0   0 255 255 255]\n"
     ]
    }
   ],
   "source": [
    "x = np.arange(5)\n",
    "y = np.where(x<2,0,255) # [0,0,255,255,255]\n",
    "\n",
    "print(x)\n",
    "print(y)\n"
   ]
  },
  {
   "cell_type": "code",
   "execution_count": 45,
   "metadata": {},
   "outputs": [
    {
     "name": "stdout",
     "output_type": "stream",
     "text": [
      "Duration native:  1.7774317264556885\n"
     ]
    }
   ],
   "source": [
    "# Notice that NumPy is quite optimized, so when possible try to used “native” \n",
    "import time\n",
    "x =  np.random.rand(4,640,480,3)\n",
    "batch, height, width, channels = x.shape\n",
    "start = time.time()\n",
    "y = np.ones_like(x)\n",
    "for i in range(batch):\n",
    "    for j in range(height):\n",
    "        for k in range(width):\n",
    "            for l in range(channels):\n",
    "                y[i,j,k,l] = 0 if x[i,j,k,l] < 0.05 else 255\n",
    "\n",
    "duration = time.time() - start\n",
    "\n",
    "print(\"Duration native: \", duration)\n",
    "\n",
    "# NumPy way instead of other approaches\n"
   ]
  },
  {
   "cell_type": "code",
   "execution_count": 47,
   "metadata": {},
   "outputs": [
    {
     "name": "stdout",
     "output_type": "stream",
     "text": [
      "Duration native:  0.018548011779785156\n"
     ]
    }
   ],
   "source": [
    "x = np.random.rand(4, 640, 480, 3)\n",
    "start = time.time()\n",
    "y = np.where(x < 0.05, 0, 255)\n",
    "duration = time.time() - start  # 0.0283 sec\n",
    "print(\"Duration native: \", duration)"
   ]
  },
  {
   "cell_type": "markdown",
   "metadata": {},
   "source": [
    "# NumPy Input/Output"
   ]
  },
  {
   "cell_type": "code",
   "execution_count": 49,
   "metadata": {},
   "outputs": [],
   "source": [
    "# data = np.loadtxt(\"name.txt\",dtype=str,delimiter=\",\")"
   ]
  },
  {
   "cell_type": "markdown",
   "metadata": {},
   "source": [
    "# Matplotlib"
   ]
  },
  {
   "cell_type": "code",
   "execution_count": 50,
   "metadata": {},
   "outputs": [
    {
     "data": {
      "image/png": "[encoded data removed]",
      "text/plain": [
       "<Figure size 640x480 with 1 Axes>"
      ]
     },
     "metadata": {},
     "output_type": "display_data"
    }
   ],
   "source": [
    "import numpy as np\n",
    "import matplotlib.pyplot as plt\n",
    "\n",
    "labels = ['7', '8', '9', '10', '11']\n",
    "x = np.arange(5)\n",
    "m1 = np.array([4.1, 5.0, 7.8, 9.5, 10.2])\n",
    "m2 = np.array([2.5, 2.3, 6.5, 1.5, 5.5])\n",
    "\n",
    "plt.plot(x, m1, color='forestgreen', label='m1', linestyle='dashed')\n",
    "plt.plot(x, m2, color='orange', label='m2')\n",
    "plt.legend()\n",
    "plt.savefig('chart.png')\n"
   ]
  },
  {
   "cell_type": "markdown",
   "metadata": {},
   "source": [
    "#END"
   ]
  }
 ],
 "metadata": {
  "kernelspec": {
   "display_name": ".venv",
   "language": "python",
   "name": "python3"
  },
  "language_info": {
   "codemirror_mode": {
    "name": "ipython",
    "version": 3
   },
   "file_extension": ".py",
   "mimetype": "text/x-python",
   "name": "python",
   "nbconvert_exporter": "python",
   "pygments_lexer": "ipython3",
   "version": "3.12.4"
  }
 },
 "nbformat": 4,
 "nbformat_minor": 2
}
