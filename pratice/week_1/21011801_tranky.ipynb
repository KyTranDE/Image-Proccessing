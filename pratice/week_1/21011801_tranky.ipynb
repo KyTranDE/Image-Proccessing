{
 "cells": [
  {
   "cell_type": "markdown",
   "metadata": {},
   "source": [
    "# Import libraries"
   ]
  },
  {
   "cell_type": "code",
   "execution_count": null,
   "metadata": {},
   "outputs": [],
   "source": [
    "import cv2\n",
    "import matplotlib.pyplot as plt\n",
    "import numpy as np"
   ]
  },
  {
   "cell_type": "markdown",
   "metadata": {},
   "source": [
    "# Read and show images"
   ]
  },
  {
   "cell_type": "code",
   "execution_count": null,
   "metadata": {},
   "outputs": [],
   "source": [
    "path = './img/download.png'\n",
    "img = cv2.imread(path,0)\n",
    "img\n",
    "# ''' \n",
    "# ảnh sẽ là một ma trận \n",
    "# ''\n"
   ]
  },
  {
   "cell_type": "code",
   "execution_count": null,
   "metadata": {},
   "outputs": [],
   "source": [
    "# plt.imshow(img[:,:,::-1]) # đảo ngược kênh màu thành màu RGB\n",
    "plt.imshow(img,cmap='gray') # đảo ngược kênh màu thành màu RGB\n",
    "img.shape"
   ]
  },
  {
   "cell_type": "markdown",
   "metadata": {},
   "source": [
    "# Show size of image"
   ]
  },
  {
   "cell_type": "code",
   "execution_count": null,
   "metadata": {},
   "outputs": [],
   "source": [
    "# H, W, C = img.shape\n",
    "# print(\"Height: \", H)\n",
    "# print(\"Width: \", W)\n",
    "# print(\"Channel: \", C)\n",
    "#Height , Width , Channel"
   ]
  },
  {
   "cell_type": "code",
   "execution_count": null,
   "metadata": {},
   "outputs": [],
   "source": [
    "print(\"Img size: \", img.size) # size = Height * Width * Channel"
   ]
  },
  {
   "cell_type": "markdown",
   "metadata": {},
   "source": [
    "# Show type of image"
   ]
  },
  {
   "cell_type": "code",
   "execution_count": null,
   "metadata": {},
   "outputs": [],
   "source": [
    "img.dtype\n",
    "# '''\n",
    "#     Kiểu dữ liệu của ảnh\n",
    "# '''"
   ]
  },
  {
   "cell_type": "markdown",
   "metadata": {},
   "source": [
    "# imread() with different color format\n",
    "- IMREAD_ANYCOLOR=4\n",
    "- IMREAD_ANYDEPTH = 2\n",
    "- IMREAD_COLOR=1\n",
    "- IMREAD_GRAYSCALE = 0\n",
    "- IMREAD_LOAD_GDAL = 8\n",
    "- IMREAD_UNCHANGED = -1\n"
   ]
  },
  {
   "cell_type": "code",
   "execution_count": null,
   "metadata": {},
   "outputs": [],
   "source": [
    "def read_img_option(path, option):\n",
    "    img= cv2.imread(path,option)\n",
    "    return img\n",
    "def show_img(img):\n",
    "    plt.imshow(img)\n",
    "    plt.axis('off')\n",
    "    plt.show()"
   ]
  },
  {
   "cell_type": "code",
   "execution_count": null,
   "metadata": {},
   "outputs": [],
   "source": [
    "img_anycolor=read_img_option(path, cv2.IMREAD_ANYCOLOR)\n",
    "show_img(img_anycolor)"
   ]
  },
  {
   "cell_type": "code",
   "execution_count": null,
   "metadata": {},
   "outputs": [],
   "source": [
    "img_anydepth=read_img_option(path, cv2.IMREAD_ANYDEPTH)\n",
    "show_img(img_anydepth)"
   ]
  },
  {
   "cell_type": "code",
   "execution_count": null,
   "metadata": {},
   "outputs": [],
   "source": [
    "img_color=read_img_option(path, cv2.IMREAD_COLOR)\n",
    "show_img(img_color)"
   ]
  },
  {
   "cell_type": "code",
   "execution_count": null,
   "metadata": {},
   "outputs": [],
   "source": [
    "img_grayscale=read_img_option(path, cv2.IMREAD_GRAYSCALE)\n",
    "show_img(img_grayscale)"
   ]
  },
  {
   "cell_type": "code",
   "execution_count": null,
   "metadata": {},
   "outputs": [],
   "source": [
    "img_load_gdal=read_img_option(path, cv2.IMREAD_LOAD_GDAL)\n",
    "show_img(img_load_gdal)"
   ]
  },
  {
   "cell_type": "code",
   "execution_count": null,
   "metadata": {},
   "outputs": [],
   "source": [
    "img_unchanged=read_img_option(path, cv2.IMREAD_UNCHANGED)\n",
    "show_img(img_unchanged)"
   ]
  },
  {
   "cell_type": "markdown",
   "metadata": {},
   "source": [
    "# Make a random image"
   ]
  },
  {
   "cell_type": "code",
   "execution_count": null,
   "metadata": {},
   "outputs": [],
   "source": [
    "import os\n",
    "randomByteArray = bytearray(os.urandom(120000))\n",
    "flatNumpyArray = np.array(randomByteArray)\n",
    "type(flatNumpyArray)"
   ]
  },
  {
   "cell_type": "code",
   "execution_count": null,
   "metadata": {},
   "outputs": [],
   "source": [
    "flatNumpyArray.shape"
   ]
  },
  {
   "cell_type": "code",
   "execution_count": null,
   "metadata": {},
   "outputs": [],
   "source": [
    "flatNumpyArray[5:20]"
   ]
  },
  {
   "cell_type": "code",
   "execution_count": null,
   "metadata": {},
   "outputs": [],
   "source": [
    "np.max(flatNumpyArray)"
   ]
  },
  {
   "cell_type": "code",
   "execution_count": null,
   "metadata": {},
   "outputs": [],
   "source": [
    "grayImage= flatNumpyArray.reshape(300,400)\n",
    "show_img(grayImage)"
   ]
  },
  {
   "cell_type": "code",
   "execution_count": null,
   "metadata": {},
   "outputs": [],
   "source": [
    "bgrImage= flatNumpyArray.reshape(100,400,3)\n",
    "show_img(bgrImage[:,:,::-1])"
   ]
  },
  {
   "cell_type": "code",
   "execution_count": null,
   "metadata": {},
   "outputs": [],
   "source": [
    "array=np.random.randint(0,256,120000)\n",
    "grayImage= array.reshape(300,400)\n",
    "show_img(grayImage)"
   ]
  },
  {
   "cell_type": "markdown",
   "metadata": {},
   "source": [
    "# Resizing images"
   ]
  },
  {
   "cell_type": "code",
   "execution_count": null,
   "metadata": {},
   "outputs": [],
   "source": [
    "h,w,_ = img.shape\n",
    "resized = cv2.resize(img,(50,50))\n",
    "show_img(resized[:,:,::-1])"
   ]
  },
  {
   "cell_type": "code",
   "execution_count": null,
   "metadata": {},
   "outputs": [],
   "source": [
    "new_w =500\n",
    "aspect_ratio = h/w\n",
    "new_h = int(new_w*aspect_ratio)\n",
    "print(new_h)"
   ]
  },
  {
   "cell_type": "code",
   "execution_count": null,
   "metadata": {},
   "outputs": [],
   "source": [
    "resized = cv2.resize(img,(new_w,new_h))\n",
    "show_img(resized[:,:,::-1])"
   ]
  },
  {
   "cell_type": "markdown",
   "metadata": {},
   "source": [
    "# END"
   ]
  }
 ],
 "metadata": {
  "kernelspec": {
   "display_name": ".venv",
   "language": "python",
   "name": "python3"
  },
  "language_info": {
   "codemirror_mode": {
    "name": "ipython",
    "version": 3
   },
   "file_extension": ".py",
   "mimetype": "text/x-python",
   "name": "python",
   "nbconvert_exporter": "python",
   "pygments_lexer": "ipython3",
   "version": "3.12.4"
  }
 },
 "nbformat": 4,
 "nbformat_minor": 2
}
